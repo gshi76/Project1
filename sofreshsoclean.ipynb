{
 "cells": [
  {
   "cell_type": "code",
   "execution_count": 157,
   "metadata": {},
   "outputs": [],
   "source": [
    "%matplotlib widget"
   ]
  },
  {
   "cell_type": "code",
   "execution_count": 158,
   "metadata": {},
   "outputs": [],
   "source": [
    "import pandas as pd\n",
    "from pathlib import Path\n",
    "import matplotlib.pyplot as plt\n",
    "import numpy as np\n",
    "\n"
   ]
  },
  {
   "cell_type": "code",
   "execution_count": 159,
   "metadata": {},
   "outputs": [
    {
     "data": {
      "text/html": [
       "<div>\n",
       "<style scoped>\n",
       "    .dataframe tbody tr th:only-of-type {\n",
       "        vertical-align: middle;\n",
       "    }\n",
       "\n",
       "    .dataframe tbody tr th {\n",
       "        vertical-align: top;\n",
       "    }\n",
       "\n",
       "    .dataframe thead th {\n",
       "        text-align: right;\n",
       "    }\n",
       "</style>\n",
       "<table border=\"1\" class=\"dataframe\">\n",
       "  <thead>\n",
       "    <tr style=\"text-align: right;\">\n",
       "      <th></th>\n",
       "      <th>Year</th>\n",
       "      <th>113 Cause Name</th>\n",
       "      <th>Cause Name</th>\n",
       "      <th>State</th>\n",
       "      <th>Deaths</th>\n",
       "      <th>Age-adjusted Death Rate</th>\n",
       "    </tr>\n",
       "  </thead>\n",
       "  <tbody>\n",
       "    <tr>\n",
       "      <th>0</th>\n",
       "      <td>2017</td>\n",
       "      <td>Accidents (unintentional injuries) (V01-X59,Y8...</td>\n",
       "      <td>Unintentional injuries</td>\n",
       "      <td>United States</td>\n",
       "      <td>169,936</td>\n",
       "      <td>49.4</td>\n",
       "    </tr>\n",
       "    <tr>\n",
       "      <th>1</th>\n",
       "      <td>2017</td>\n",
       "      <td>Accidents (unintentional injuries) (V01-X59,Y8...</td>\n",
       "      <td>Unintentional injuries</td>\n",
       "      <td>Alabama</td>\n",
       "      <td>2,703</td>\n",
       "      <td>53.8</td>\n",
       "    </tr>\n",
       "    <tr>\n",
       "      <th>2</th>\n",
       "      <td>2017</td>\n",
       "      <td>Accidents (unintentional injuries) (V01-X59,Y8...</td>\n",
       "      <td>Unintentional injuries</td>\n",
       "      <td>Alaska</td>\n",
       "      <td>436</td>\n",
       "      <td>63.7</td>\n",
       "    </tr>\n",
       "    <tr>\n",
       "      <th>3</th>\n",
       "      <td>2017</td>\n",
       "      <td>Accidents (unintentional injuries) (V01-X59,Y8...</td>\n",
       "      <td>Unintentional injuries</td>\n",
       "      <td>Arizona</td>\n",
       "      <td>4,184</td>\n",
       "      <td>56.2</td>\n",
       "    </tr>\n",
       "    <tr>\n",
       "      <th>4</th>\n",
       "      <td>2017</td>\n",
       "      <td>Accidents (unintentional injuries) (V01-X59,Y8...</td>\n",
       "      <td>Unintentional injuries</td>\n",
       "      <td>Arkansas</td>\n",
       "      <td>1,625</td>\n",
       "      <td>51.8</td>\n",
       "    </tr>\n",
       "  </tbody>\n",
       "</table>\n",
       "</div>"
      ],
      "text/plain": [
       "   Year                                     113 Cause Name  \\\n",
       "0  2017  Accidents (unintentional injuries) (V01-X59,Y8...   \n",
       "1  2017  Accidents (unintentional injuries) (V01-X59,Y8...   \n",
       "2  2017  Accidents (unintentional injuries) (V01-X59,Y8...   \n",
       "3  2017  Accidents (unintentional injuries) (V01-X59,Y8...   \n",
       "4  2017  Accidents (unintentional injuries) (V01-X59,Y8...   \n",
       "\n",
       "               Cause Name          State   Deaths Age-adjusted Death Rate  \n",
       "0  Unintentional injuries  United States  169,936                    49.4  \n",
       "1  Unintentional injuries        Alabama    2,703                    53.8  \n",
       "2  Unintentional injuries         Alaska      436                    63.7  \n",
       "3  Unintentional injuries        Arizona    4,184                    56.2  \n",
       "4  Unintentional injuries       Arkansas    1,625                    51.8  "
      ]
     },
     "execution_count": 159,
     "metadata": {},
     "output_type": "execute_result"
    }
   ],
   "source": [
    "csv_path = Path(\"/Users/cillian/Downloads/NCHS_-_Leading_Causes_of_Death__United_States (1).csv\")\n",
    "death_df = pd.read_csv(csv_path)\n",
    "\n",
    "death_df.head()"
   ]
  },
  {
   "cell_type": "code",
   "execution_count": 160,
   "metadata": {},
   "outputs": [
    {
     "data": {
      "text/html": [
       "<div>\n",
       "<style scoped>\n",
       "    .dataframe tbody tr th:only-of-type {\n",
       "        vertical-align: middle;\n",
       "    }\n",
       "\n",
       "    .dataframe tbody tr th {\n",
       "        vertical-align: top;\n",
       "    }\n",
       "\n",
       "    .dataframe thead th {\n",
       "        text-align: right;\n",
       "    }\n",
       "</style>\n",
       "<table border=\"1\" class=\"dataframe\">\n",
       "  <thead>\n",
       "    <tr style=\"text-align: right;\">\n",
       "      <th></th>\n",
       "      <th>Year</th>\n",
       "      <th>LocationAbbr</th>\n",
       "      <th>LocationDesc</th>\n",
       "      <th>GeographicLevel</th>\n",
       "      <th>DataSource</th>\n",
       "      <th>Class</th>\n",
       "      <th>Topic</th>\n",
       "      <th>Data_Value</th>\n",
       "      <th>Data_Value_Unit</th>\n",
       "      <th>Data_Value_Type</th>\n",
       "      <th>Data_Value_Footnote_Symbol</th>\n",
       "      <th>Data_Value_Footnote</th>\n",
       "      <th>StratificationCategory1</th>\n",
       "      <th>Stratification1</th>\n",
       "      <th>StratificationCategory2</th>\n",
       "      <th>Stratification2</th>\n",
       "      <th>TopicID</th>\n",
       "      <th>LocationID</th>\n",
       "      <th>Location 1</th>\n",
       "    </tr>\n",
       "  </thead>\n",
       "  <tbody>\n",
       "    <tr>\n",
       "      <th>0</th>\n",
       "      <td>2014</td>\n",
       "      <td>AK</td>\n",
       "      <td>Aleutians East</td>\n",
       "      <td>County</td>\n",
       "      <td>NVSS</td>\n",
       "      <td>Cardiovascular Diseases</td>\n",
       "      <td>Heart Disease Mortality</td>\n",
       "      <td>105.3</td>\n",
       "      <td>per 100,000 population</td>\n",
       "      <td>Age-adjusted, Spatially Smoothed, 3-year Avera...</td>\n",
       "      <td>NaN</td>\n",
       "      <td>NaN</td>\n",
       "      <td>Gender</td>\n",
       "      <td>Overall</td>\n",
       "      <td>Race/Ethnicity</td>\n",
       "      <td>Overall</td>\n",
       "      <td>T2</td>\n",
       "      <td>2013</td>\n",
       "      <td>(55.440626, -161.962562)</td>\n",
       "    </tr>\n",
       "    <tr>\n",
       "      <th>1</th>\n",
       "      <td>2014</td>\n",
       "      <td>AK</td>\n",
       "      <td>Aleutians West</td>\n",
       "      <td>County</td>\n",
       "      <td>NVSS</td>\n",
       "      <td>Cardiovascular Diseases</td>\n",
       "      <td>Heart Disease Mortality</td>\n",
       "      <td>211.9</td>\n",
       "      <td>per 100,000 population</td>\n",
       "      <td>Age-adjusted, Spatially Smoothed, 3-year Avera...</td>\n",
       "      <td>NaN</td>\n",
       "      <td>NaN</td>\n",
       "      <td>Gender</td>\n",
       "      <td>Overall</td>\n",
       "      <td>Race/Ethnicity</td>\n",
       "      <td>Overall</td>\n",
       "      <td>T2</td>\n",
       "      <td>2016</td>\n",
       "      <td>(52.995403, -170.251538)</td>\n",
       "    </tr>\n",
       "    <tr>\n",
       "      <th>2</th>\n",
       "      <td>2014</td>\n",
       "      <td>AK</td>\n",
       "      <td>Anchorage</td>\n",
       "      <td>County</td>\n",
       "      <td>NVSS</td>\n",
       "      <td>Cardiovascular Diseases</td>\n",
       "      <td>Heart Disease Mortality</td>\n",
       "      <td>257.9</td>\n",
       "      <td>per 100,000 population</td>\n",
       "      <td>Age-adjusted, Spatially Smoothed, 3-year Avera...</td>\n",
       "      <td>NaN</td>\n",
       "      <td>NaN</td>\n",
       "      <td>Gender</td>\n",
       "      <td>Overall</td>\n",
       "      <td>Race/Ethnicity</td>\n",
       "      <td>Overall</td>\n",
       "      <td>T2</td>\n",
       "      <td>2020</td>\n",
       "      <td>(61.159049, -149.103905)</td>\n",
       "    </tr>\n",
       "    <tr>\n",
       "      <th>3</th>\n",
       "      <td>2014</td>\n",
       "      <td>AK</td>\n",
       "      <td>Bethel</td>\n",
       "      <td>County</td>\n",
       "      <td>NVSS</td>\n",
       "      <td>Cardiovascular Diseases</td>\n",
       "      <td>Heart Disease Mortality</td>\n",
       "      <td>351.6</td>\n",
       "      <td>per 100,000 population</td>\n",
       "      <td>Age-adjusted, Spatially Smoothed, 3-year Avera...</td>\n",
       "      <td>NaN</td>\n",
       "      <td>NaN</td>\n",
       "      <td>Gender</td>\n",
       "      <td>Overall</td>\n",
       "      <td>Race/Ethnicity</td>\n",
       "      <td>Overall</td>\n",
       "      <td>T2</td>\n",
       "      <td>2050</td>\n",
       "      <td>(60.924483, -159.749655)</td>\n",
       "    </tr>\n",
       "    <tr>\n",
       "      <th>4</th>\n",
       "      <td>2014</td>\n",
       "      <td>AK</td>\n",
       "      <td>Bristol Bay</td>\n",
       "      <td>County</td>\n",
       "      <td>NVSS</td>\n",
       "      <td>Cardiovascular Diseases</td>\n",
       "      <td>Heart Disease Mortality</td>\n",
       "      <td>NaN</td>\n",
       "      <td>per 100,000 population</td>\n",
       "      <td>Age-adjusted, Spatially Smoothed, 3-year Avera...</td>\n",
       "      <td>~</td>\n",
       "      <td>Insufficient Data</td>\n",
       "      <td>Gender</td>\n",
       "      <td>Overall</td>\n",
       "      <td>Race/Ethnicity</td>\n",
       "      <td>Overall</td>\n",
       "      <td>T2</td>\n",
       "      <td>2060</td>\n",
       "      <td>(58.754192, -156.694709)</td>\n",
       "    </tr>\n",
       "  </tbody>\n",
       "</table>\n",
       "</div>"
      ],
      "text/plain": [
       "   Year LocationAbbr    LocationDesc GeographicLevel DataSource  \\\n",
       "0  2014           AK  Aleutians East          County       NVSS   \n",
       "1  2014           AK  Aleutians West          County       NVSS   \n",
       "2  2014           AK       Anchorage          County       NVSS   \n",
       "3  2014           AK          Bethel          County       NVSS   \n",
       "4  2014           AK     Bristol Bay          County       NVSS   \n",
       "\n",
       "                     Class                    Topic  Data_Value  \\\n",
       "0  Cardiovascular Diseases  Heart Disease Mortality       105.3   \n",
       "1  Cardiovascular Diseases  Heart Disease Mortality       211.9   \n",
       "2  Cardiovascular Diseases  Heart Disease Mortality       257.9   \n",
       "3  Cardiovascular Diseases  Heart Disease Mortality       351.6   \n",
       "4  Cardiovascular Diseases  Heart Disease Mortality         NaN   \n",
       "\n",
       "          Data_Value_Unit                                    Data_Value_Type  \\\n",
       "0  per 100,000 population  Age-adjusted, Spatially Smoothed, 3-year Avera...   \n",
       "1  per 100,000 population  Age-adjusted, Spatially Smoothed, 3-year Avera...   \n",
       "2  per 100,000 population  Age-adjusted, Spatially Smoothed, 3-year Avera...   \n",
       "3  per 100,000 population  Age-adjusted, Spatially Smoothed, 3-year Avera...   \n",
       "4  per 100,000 population  Age-adjusted, Spatially Smoothed, 3-year Avera...   \n",
       "\n",
       "  Data_Value_Footnote_Symbol Data_Value_Footnote StratificationCategory1  \\\n",
       "0                        NaN                 NaN                  Gender   \n",
       "1                        NaN                 NaN                  Gender   \n",
       "2                        NaN                 NaN                  Gender   \n",
       "3                        NaN                 NaN                  Gender   \n",
       "4                          ~   Insufficient Data                  Gender   \n",
       "\n",
       "  Stratification1 StratificationCategory2 Stratification2 TopicID  LocationID  \\\n",
       "0         Overall          Race/Ethnicity         Overall      T2        2013   \n",
       "1         Overall          Race/Ethnicity         Overall      T2        2016   \n",
       "2         Overall          Race/Ethnicity         Overall      T2        2020   \n",
       "3         Overall          Race/Ethnicity         Overall      T2        2050   \n",
       "4         Overall          Race/Ethnicity         Overall      T2        2060   \n",
       "\n",
       "                 Location 1  \n",
       "0  (55.440626, -161.962562)  \n",
       "1  (52.995403, -170.251538)  \n",
       "2  (61.159049, -149.103905)  \n",
       "3  (60.924483, -159.749655)  \n",
       "4  (58.754192, -156.694709)  "
      ]
     },
     "execution_count": 160,
     "metadata": {},
     "output_type": "execute_result"
    }
   ],
   "source": [
    "csv_path = Path(\"/Users/cillian/Downloads/Heart_Disease_Mortality_Data_Among_US_Adults__35___by_State_Territory_and_County_20240411.csv\")\n",
    "heart_df = pd.read_csv(csv_path)\n",
    "\n",
    "heart_df.head()"
   ]
  },
  {
   "cell_type": "code",
   "execution_count": 161,
   "metadata": {},
   "outputs": [
    {
     "data": {
      "text/html": [
       "<div>\n",
       "<style scoped>\n",
       "    .dataframe tbody tr th:only-of-type {\n",
       "        vertical-align: middle;\n",
       "    }\n",
       "\n",
       "    .dataframe tbody tr th {\n",
       "        vertical-align: top;\n",
       "    }\n",
       "\n",
       "    .dataframe thead th {\n",
       "        text-align: right;\n",
       "    }\n",
       "</style>\n",
       "<table border=\"1\" class=\"dataframe\">\n",
       "  <thead>\n",
       "    <tr style=\"text-align: right;\">\n",
       "      <th></th>\n",
       "      <th>Year</th>\n",
       "      <th>State</th>\n",
       "      <th>LocationDesc</th>\n",
       "      <th>GeographicLevel</th>\n",
       "      <th>DataSource</th>\n",
       "      <th>Class</th>\n",
       "      <th>Topic</th>\n",
       "      <th>Value</th>\n",
       "      <th>Data_Value_Unit</th>\n",
       "      <th>Data_Value_Type</th>\n",
       "      <th>Data_Value_Footnote_Symbol</th>\n",
       "      <th>Data_Value_Footnote</th>\n",
       "      <th>StratificationCategory1</th>\n",
       "      <th>Gender</th>\n",
       "      <th>StratificationCategory2</th>\n",
       "      <th>Race/Ethnicity</th>\n",
       "      <th>TopicID</th>\n",
       "      <th>LocationID</th>\n",
       "      <th>Location 1</th>\n",
       "    </tr>\n",
       "  </thead>\n",
       "  <tbody>\n",
       "    <tr>\n",
       "      <th>0</th>\n",
       "      <td>2014</td>\n",
       "      <td>AK</td>\n",
       "      <td>Aleutians East</td>\n",
       "      <td>County</td>\n",
       "      <td>NVSS</td>\n",
       "      <td>Cardiovascular Diseases</td>\n",
       "      <td>Heart Disease Mortality</td>\n",
       "      <td>105.3</td>\n",
       "      <td>per 100,000 population</td>\n",
       "      <td>Age-adjusted, Spatially Smoothed, 3-year Avera...</td>\n",
       "      <td>NaN</td>\n",
       "      <td>NaN</td>\n",
       "      <td>Gender</td>\n",
       "      <td>Overall</td>\n",
       "      <td>Race/Ethnicity</td>\n",
       "      <td>Overall</td>\n",
       "      <td>T2</td>\n",
       "      <td>2013</td>\n",
       "      <td>(55.440626, -161.962562)</td>\n",
       "    </tr>\n",
       "    <tr>\n",
       "      <th>1</th>\n",
       "      <td>2014</td>\n",
       "      <td>AK</td>\n",
       "      <td>Aleutians West</td>\n",
       "      <td>County</td>\n",
       "      <td>NVSS</td>\n",
       "      <td>Cardiovascular Diseases</td>\n",
       "      <td>Heart Disease Mortality</td>\n",
       "      <td>211.9</td>\n",
       "      <td>per 100,000 population</td>\n",
       "      <td>Age-adjusted, Spatially Smoothed, 3-year Avera...</td>\n",
       "      <td>NaN</td>\n",
       "      <td>NaN</td>\n",
       "      <td>Gender</td>\n",
       "      <td>Overall</td>\n",
       "      <td>Race/Ethnicity</td>\n",
       "      <td>Overall</td>\n",
       "      <td>T2</td>\n",
       "      <td>2016</td>\n",
       "      <td>(52.995403, -170.251538)</td>\n",
       "    </tr>\n",
       "    <tr>\n",
       "      <th>2</th>\n",
       "      <td>2014</td>\n",
       "      <td>AK</td>\n",
       "      <td>Anchorage</td>\n",
       "      <td>County</td>\n",
       "      <td>NVSS</td>\n",
       "      <td>Cardiovascular Diseases</td>\n",
       "      <td>Heart Disease Mortality</td>\n",
       "      <td>257.9</td>\n",
       "      <td>per 100,000 population</td>\n",
       "      <td>Age-adjusted, Spatially Smoothed, 3-year Avera...</td>\n",
       "      <td>NaN</td>\n",
       "      <td>NaN</td>\n",
       "      <td>Gender</td>\n",
       "      <td>Overall</td>\n",
       "      <td>Race/Ethnicity</td>\n",
       "      <td>Overall</td>\n",
       "      <td>T2</td>\n",
       "      <td>2020</td>\n",
       "      <td>(61.159049, -149.103905)</td>\n",
       "    </tr>\n",
       "    <tr>\n",
       "      <th>3</th>\n",
       "      <td>2014</td>\n",
       "      <td>AK</td>\n",
       "      <td>Bethel</td>\n",
       "      <td>County</td>\n",
       "      <td>NVSS</td>\n",
       "      <td>Cardiovascular Diseases</td>\n",
       "      <td>Heart Disease Mortality</td>\n",
       "      <td>351.6</td>\n",
       "      <td>per 100,000 population</td>\n",
       "      <td>Age-adjusted, Spatially Smoothed, 3-year Avera...</td>\n",
       "      <td>NaN</td>\n",
       "      <td>NaN</td>\n",
       "      <td>Gender</td>\n",
       "      <td>Overall</td>\n",
       "      <td>Race/Ethnicity</td>\n",
       "      <td>Overall</td>\n",
       "      <td>T2</td>\n",
       "      <td>2050</td>\n",
       "      <td>(60.924483, -159.749655)</td>\n",
       "    </tr>\n",
       "    <tr>\n",
       "      <th>4</th>\n",
       "      <td>2014</td>\n",
       "      <td>AK</td>\n",
       "      <td>Bristol Bay</td>\n",
       "      <td>County</td>\n",
       "      <td>NVSS</td>\n",
       "      <td>Cardiovascular Diseases</td>\n",
       "      <td>Heart Disease Mortality</td>\n",
       "      <td>NaN</td>\n",
       "      <td>per 100,000 population</td>\n",
       "      <td>Age-adjusted, Spatially Smoothed, 3-year Avera...</td>\n",
       "      <td>~</td>\n",
       "      <td>Insufficient Data</td>\n",
       "      <td>Gender</td>\n",
       "      <td>Overall</td>\n",
       "      <td>Race/Ethnicity</td>\n",
       "      <td>Overall</td>\n",
       "      <td>T2</td>\n",
       "      <td>2060</td>\n",
       "      <td>(58.754192, -156.694709)</td>\n",
       "    </tr>\n",
       "  </tbody>\n",
       "</table>\n",
       "</div>"
      ],
      "text/plain": [
       "   Year State    LocationDesc GeographicLevel DataSource  \\\n",
       "0  2014    AK  Aleutians East          County       NVSS   \n",
       "1  2014    AK  Aleutians West          County       NVSS   \n",
       "2  2014    AK       Anchorage          County       NVSS   \n",
       "3  2014    AK          Bethel          County       NVSS   \n",
       "4  2014    AK     Bristol Bay          County       NVSS   \n",
       "\n",
       "                     Class                    Topic  Value  \\\n",
       "0  Cardiovascular Diseases  Heart Disease Mortality  105.3   \n",
       "1  Cardiovascular Diseases  Heart Disease Mortality  211.9   \n",
       "2  Cardiovascular Diseases  Heart Disease Mortality  257.9   \n",
       "3  Cardiovascular Diseases  Heart Disease Mortality  351.6   \n",
       "4  Cardiovascular Diseases  Heart Disease Mortality    NaN   \n",
       "\n",
       "          Data_Value_Unit                                    Data_Value_Type  \\\n",
       "0  per 100,000 population  Age-adjusted, Spatially Smoothed, 3-year Avera...   \n",
       "1  per 100,000 population  Age-adjusted, Spatially Smoothed, 3-year Avera...   \n",
       "2  per 100,000 population  Age-adjusted, Spatially Smoothed, 3-year Avera...   \n",
       "3  per 100,000 population  Age-adjusted, Spatially Smoothed, 3-year Avera...   \n",
       "4  per 100,000 population  Age-adjusted, Spatially Smoothed, 3-year Avera...   \n",
       "\n",
       "  Data_Value_Footnote_Symbol Data_Value_Footnote StratificationCategory1  \\\n",
       "0                        NaN                 NaN                  Gender   \n",
       "1                        NaN                 NaN                  Gender   \n",
       "2                        NaN                 NaN                  Gender   \n",
       "3                        NaN                 NaN                  Gender   \n",
       "4                          ~   Insufficient Data                  Gender   \n",
       "\n",
       "    Gender StratificationCategory2 Race/Ethnicity TopicID  LocationID  \\\n",
       "0  Overall          Race/Ethnicity        Overall      T2        2013   \n",
       "1  Overall          Race/Ethnicity        Overall      T2        2016   \n",
       "2  Overall          Race/Ethnicity        Overall      T2        2020   \n",
       "3  Overall          Race/Ethnicity        Overall      T2        2050   \n",
       "4  Overall          Race/Ethnicity        Overall      T2        2060   \n",
       "\n",
       "                 Location 1  \n",
       "0  (55.440626, -161.962562)  \n",
       "1  (52.995403, -170.251538)  \n",
       "2  (61.159049, -149.103905)  \n",
       "3  (60.924483, -159.749655)  \n",
       "4  (58.754192, -156.694709)  "
      ]
     },
     "execution_count": 161,
     "metadata": {},
     "output_type": "execute_result"
    }
   ],
   "source": [
    "heart2_df = heart_df.rename(columns=\n",
    "                            {\"LocationAbbr\" : \"State\",\n",
    "                             \"Data_Value\" : \"Value\",\n",
    "                              \"Stratification1\" : \"Gender\",\n",
    "                               \"Stratification2\" : \"Race/Ethnicity\"\n",
    "                               })\n",
    "heart2_df.head()"
   ]
  },
  {
   "cell_type": "code",
   "execution_count": 162,
   "metadata": {},
   "outputs": [
    {
     "data": {
      "text/html": [
       "<div>\n",
       "<style scoped>\n",
       "    .dataframe tbody tr th:only-of-type {\n",
       "        vertical-align: middle;\n",
       "    }\n",
       "\n",
       "    .dataframe tbody tr th {\n",
       "        vertical-align: top;\n",
       "    }\n",
       "\n",
       "    .dataframe thead th {\n",
       "        text-align: right;\n",
       "    }\n",
       "</style>\n",
       "<table border=\"1\" class=\"dataframe\">\n",
       "  <thead>\n",
       "    <tr style=\"text-align: right;\">\n",
       "      <th></th>\n",
       "      <th>Year</th>\n",
       "      <th>State</th>\n",
       "      <th>Value</th>\n",
       "      <th>Gender</th>\n",
       "      <th>Race/Ethnicity</th>\n",
       "    </tr>\n",
       "  </thead>\n",
       "  <tbody>\n",
       "    <tr>\n",
       "      <th>0</th>\n",
       "      <td>2014</td>\n",
       "      <td>AK</td>\n",
       "      <td>105.3</td>\n",
       "      <td>Overall</td>\n",
       "      <td>Overall</td>\n",
       "    </tr>\n",
       "    <tr>\n",
       "      <th>1</th>\n",
       "      <td>2014</td>\n",
       "      <td>AK</td>\n",
       "      <td>211.9</td>\n",
       "      <td>Overall</td>\n",
       "      <td>Overall</td>\n",
       "    </tr>\n",
       "    <tr>\n",
       "      <th>2</th>\n",
       "      <td>2014</td>\n",
       "      <td>AK</td>\n",
       "      <td>257.9</td>\n",
       "      <td>Overall</td>\n",
       "      <td>Overall</td>\n",
       "    </tr>\n",
       "    <tr>\n",
       "      <th>3</th>\n",
       "      <td>2014</td>\n",
       "      <td>AK</td>\n",
       "      <td>351.6</td>\n",
       "      <td>Overall</td>\n",
       "      <td>Overall</td>\n",
       "    </tr>\n",
       "    <tr>\n",
       "      <th>4</th>\n",
       "      <td>2014</td>\n",
       "      <td>AK</td>\n",
       "      <td>NaN</td>\n",
       "      <td>Overall</td>\n",
       "      <td>Overall</td>\n",
       "    </tr>\n",
       "  </tbody>\n",
       "</table>\n",
       "</div>"
      ],
      "text/plain": [
       "   Year State  Value   Gender Race/Ethnicity\n",
       "0  2014    AK  105.3  Overall        Overall\n",
       "1  2014    AK  211.9  Overall        Overall\n",
       "2  2014    AK  257.9  Overall        Overall\n",
       "3  2014    AK  351.6  Overall        Overall\n",
       "4  2014    AK    NaN  Overall        Overall"
      ]
     },
     "execution_count": 162,
     "metadata": {},
     "output_type": "execute_result"
    }
   ],
   "source": [
    "heart3_df = heart2_df[[\"Year\",\"State\",\"Value\",\"Gender\",\"Race/Ethnicity\"]]\n",
    "heart3_df.head()"
   ]
  },
  {
   "cell_type": "code",
   "execution_count": 163,
   "metadata": {},
   "outputs": [
    {
     "data": {
      "text/html": [
       "<div>\n",
       "<style scoped>\n",
       "    .dataframe tbody tr th:only-of-type {\n",
       "        vertical-align: middle;\n",
       "    }\n",
       "\n",
       "    .dataframe tbody tr th {\n",
       "        vertical-align: top;\n",
       "    }\n",
       "\n",
       "    .dataframe thead th {\n",
       "        text-align: right;\n",
       "    }\n",
       "</style>\n",
       "<table border=\"1\" class=\"dataframe\">\n",
       "  <thead>\n",
       "    <tr style=\"text-align: right;\">\n",
       "      <th></th>\n",
       "      <th>Year</th>\n",
       "      <th>State</th>\n",
       "      <th>Value</th>\n",
       "      <th>Gender</th>\n",
       "      <th>Race/Ethnicity</th>\n",
       "    </tr>\n",
       "  </thead>\n",
       "  <tbody>\n",
       "    <tr>\n",
       "      <th>27</th>\n",
       "      <td>2014</td>\n",
       "      <td>AK</td>\n",
       "      <td>347.9</td>\n",
       "      <td>Male</td>\n",
       "      <td>Overall</td>\n",
       "    </tr>\n",
       "    <tr>\n",
       "      <th>28</th>\n",
       "      <td>2014</td>\n",
       "      <td>AK</td>\n",
       "      <td>332.1</td>\n",
       "      <td>Male</td>\n",
       "      <td>Overall</td>\n",
       "    </tr>\n",
       "    <tr>\n",
       "      <th>29</th>\n",
       "      <td>2014</td>\n",
       "      <td>AK</td>\n",
       "      <td>489.8</td>\n",
       "      <td>Male</td>\n",
       "      <td>Overall</td>\n",
       "    </tr>\n",
       "    <tr>\n",
       "      <th>30</th>\n",
       "      <td>2014</td>\n",
       "      <td>AK</td>\n",
       "      <td>NaN</td>\n",
       "      <td>Male</td>\n",
       "      <td>Overall</td>\n",
       "    </tr>\n",
       "    <tr>\n",
       "      <th>31</th>\n",
       "      <td>2014</td>\n",
       "      <td>AK</td>\n",
       "      <td>401.2</td>\n",
       "      <td>Male</td>\n",
       "      <td>Overall</td>\n",
       "    </tr>\n",
       "  </tbody>\n",
       "</table>\n",
       "</div>"
      ],
      "text/plain": [
       "    Year State  Value Gender Race/Ethnicity\n",
       "27  2014    AK  347.9   Male        Overall\n",
       "28  2014    AK  332.1   Male        Overall\n",
       "29  2014    AK  489.8   Male        Overall\n",
       "30  2014    AK    NaN   Male        Overall\n",
       "31  2014    AK  401.2   Male        Overall"
      ]
     },
     "execution_count": 163,
     "metadata": {},
     "output_type": "execute_result"
    }
   ],
   "source": [
    "heart4_df = heart3_df.loc[(heart3_df[\"Gender\"] == \"Male\") | (heart3_df[\"Gender\"] == \"Female\"), :]\n",
    "heart4_df.head()"
   ]
  },
  {
   "cell_type": "code",
   "execution_count": 164,
   "metadata": {},
   "outputs": [
    {
     "data": {
      "text/plain": [
       "array(['Overall', 'White', 'Black', 'Hispanic',\n",
       "       'American Indian and Alaskan Native', 'Asian and Pacific Islander'],\n",
       "      dtype=object)"
      ]
     },
     "execution_count": 164,
     "metadata": {},
     "output_type": "execute_result"
    }
   ],
   "source": [
    "heart4_df[\"Race/Ethnicity\"].unique()"
   ]
  },
  {
   "cell_type": "code",
   "execution_count": 165,
   "metadata": {},
   "outputs": [
    {
     "data": {
      "text/html": [
       "<div>\n",
       "<style scoped>\n",
       "    .dataframe tbody tr th:only-of-type {\n",
       "        vertical-align: middle;\n",
       "    }\n",
       "\n",
       "    .dataframe tbody tr th {\n",
       "        vertical-align: top;\n",
       "    }\n",
       "\n",
       "    .dataframe thead th {\n",
       "        text-align: right;\n",
       "    }\n",
       "</style>\n",
       "<table border=\"1\" class=\"dataframe\">\n",
       "  <thead>\n",
       "    <tr style=\"text-align: right;\">\n",
       "      <th></th>\n",
       "      <th>Year</th>\n",
       "      <th>State</th>\n",
       "      <th>Value</th>\n",
       "      <th>Gender</th>\n",
       "      <th>Race/Ethnicity</th>\n",
       "    </tr>\n",
       "  </thead>\n",
       "  <tbody>\n",
       "    <tr>\n",
       "      <th>101</th>\n",
       "      <td>2014</td>\n",
       "      <td>AK</td>\n",
       "      <td>NaN</td>\n",
       "      <td>Male</td>\n",
       "      <td>White</td>\n",
       "    </tr>\n",
       "    <tr>\n",
       "      <th>102</th>\n",
       "      <td>2014</td>\n",
       "      <td>AK</td>\n",
       "      <td>317.5</td>\n",
       "      <td>Male</td>\n",
       "      <td>White</td>\n",
       "    </tr>\n",
       "    <tr>\n",
       "      <th>103</th>\n",
       "      <td>2014</td>\n",
       "      <td>AK</td>\n",
       "      <td>NaN</td>\n",
       "      <td>Male</td>\n",
       "      <td>White</td>\n",
       "    </tr>\n",
       "    <tr>\n",
       "      <th>104</th>\n",
       "      <td>2014</td>\n",
       "      <td>AK</td>\n",
       "      <td>NaN</td>\n",
       "      <td>Male</td>\n",
       "      <td>White</td>\n",
       "    </tr>\n",
       "    <tr>\n",
       "      <th>105</th>\n",
       "      <td>2014</td>\n",
       "      <td>AK</td>\n",
       "      <td>400.7</td>\n",
       "      <td>Male</td>\n",
       "      <td>White</td>\n",
       "    </tr>\n",
       "    <tr>\n",
       "      <th>...</th>\n",
       "      <td>...</td>\n",
       "      <td>...</td>\n",
       "      <td>...</td>\n",
       "      <td>...</td>\n",
       "      <td>...</td>\n",
       "    </tr>\n",
       "    <tr>\n",
       "      <th>59071</th>\n",
       "      <td>2014</td>\n",
       "      <td>TX</td>\n",
       "      <td>NaN</td>\n",
       "      <td>Male</td>\n",
       "      <td>Asian and Pacific Islander</td>\n",
       "    </tr>\n",
       "    <tr>\n",
       "      <th>59072</th>\n",
       "      <td>2014</td>\n",
       "      <td>TX</td>\n",
       "      <td>NaN</td>\n",
       "      <td>Male</td>\n",
       "      <td>Black</td>\n",
       "    </tr>\n",
       "    <tr>\n",
       "      <th>59073</th>\n",
       "      <td>2014</td>\n",
       "      <td>IA</td>\n",
       "      <td>NaN</td>\n",
       "      <td>Female</td>\n",
       "      <td>Asian and Pacific Islander</td>\n",
       "    </tr>\n",
       "    <tr>\n",
       "      <th>59074</th>\n",
       "      <td>2014</td>\n",
       "      <td>WV</td>\n",
       "      <td>NaN</td>\n",
       "      <td>Female</td>\n",
       "      <td>Asian and Pacific Islander</td>\n",
       "    </tr>\n",
       "    <tr>\n",
       "      <th>59075</th>\n",
       "      <td>2014</td>\n",
       "      <td>KS</td>\n",
       "      <td>NaN</td>\n",
       "      <td>Female</td>\n",
       "      <td>Asian and Pacific Islander</td>\n",
       "    </tr>\n",
       "  </tbody>\n",
       "</table>\n",
       "<p>32820 rows × 5 columns</p>\n",
       "</div>"
      ],
      "text/plain": [
       "       Year State  Value  Gender              Race/Ethnicity\n",
       "101    2014    AK    NaN    Male                       White\n",
       "102    2014    AK  317.5    Male                       White\n",
       "103    2014    AK    NaN    Male                       White\n",
       "104    2014    AK    NaN    Male                       White\n",
       "105    2014    AK  400.7    Male                       White\n",
       "...     ...   ...    ...     ...                         ...\n",
       "59071  2014    TX    NaN    Male  Asian and Pacific Islander\n",
       "59072  2014    TX    NaN    Male                       Black\n",
       "59073  2014    IA    NaN  Female  Asian and Pacific Islander\n",
       "59074  2014    WV    NaN  Female  Asian and Pacific Islander\n",
       "59075  2014    KS    NaN  Female  Asian and Pacific Islander\n",
       "\n",
       "[32820 rows x 5 columns]"
      ]
     },
     "execution_count": 165,
     "metadata": {},
     "output_type": "execute_result"
    }
   ],
   "source": [
    "heart5_df = heart4_df.loc[(heart4_df[\"Race/Ethnicity\"] == \"White\") | (heart4_df[\"Race/Ethnicity\"] == \"Black\") | (heart4_df[\"Race/Ethnicity\"] == \"Hispanic\") | (heart4_df[\"Race/Ethnicity\"] == \"American Indian and Alaskan Native\") | (heart4_df[\"Race/Ethnicity\"] == \"Asian and Pacific Islander\"), :]\n",
    "heart5_df"
   ]
  },
  {
   "cell_type": "code",
   "execution_count": 166,
   "metadata": {},
   "outputs": [
    {
     "data": {
      "text/html": [
       "<div>\n",
       "<style scoped>\n",
       "    .dataframe tbody tr th:only-of-type {\n",
       "        vertical-align: middle;\n",
       "    }\n",
       "\n",
       "    .dataframe tbody tr th {\n",
       "        vertical-align: top;\n",
       "    }\n",
       "\n",
       "    .dataframe thead th {\n",
       "        text-align: right;\n",
       "    }\n",
       "</style>\n",
       "<table border=\"1\" class=\"dataframe\">\n",
       "  <thead>\n",
       "    <tr style=\"text-align: right;\">\n",
       "      <th></th>\n",
       "      <th>State</th>\n",
       "      <th>Value</th>\n",
       "      <th>Gender</th>\n",
       "      <th>Race/Ethnicity</th>\n",
       "    </tr>\n",
       "    <tr>\n",
       "      <th>Year</th>\n",
       "      <th></th>\n",
       "      <th></th>\n",
       "      <th></th>\n",
       "      <th></th>\n",
       "    </tr>\n",
       "  </thead>\n",
       "  <tbody>\n",
       "    <tr>\n",
       "      <th>2014</th>\n",
       "      <td>AK</td>\n",
       "      <td>317.5</td>\n",
       "      <td>Male</td>\n",
       "      <td>White</td>\n",
       "    </tr>\n",
       "    <tr>\n",
       "      <th>2014</th>\n",
       "      <td>AK</td>\n",
       "      <td>400.7</td>\n",
       "      <td>Male</td>\n",
       "      <td>White</td>\n",
       "    </tr>\n",
       "    <tr>\n",
       "      <th>2014</th>\n",
       "      <td>AK</td>\n",
       "      <td>401.0</td>\n",
       "      <td>Male</td>\n",
       "      <td>White</td>\n",
       "    </tr>\n",
       "    <tr>\n",
       "      <th>2014</th>\n",
       "      <td>AK</td>\n",
       "      <td>385.5</td>\n",
       "      <td>Male</td>\n",
       "      <td>White</td>\n",
       "    </tr>\n",
       "    <tr>\n",
       "      <th>2014</th>\n",
       "      <td>AK</td>\n",
       "      <td>281.6</td>\n",
       "      <td>Male</td>\n",
       "      <td>White</td>\n",
       "    </tr>\n",
       "    <tr>\n",
       "      <th>...</th>\n",
       "      <td>...</td>\n",
       "      <td>...</td>\n",
       "      <td>...</td>\n",
       "      <td>...</td>\n",
       "    </tr>\n",
       "    <tr>\n",
       "      <th>2014</th>\n",
       "      <td>IA</td>\n",
       "      <td>45.2</td>\n",
       "      <td>Male</td>\n",
       "      <td>Hispanic</td>\n",
       "    </tr>\n",
       "    <tr>\n",
       "      <th>2014</th>\n",
       "      <td>FL</td>\n",
       "      <td>184.3</td>\n",
       "      <td>Male</td>\n",
       "      <td>Asian and Pacific Islander</td>\n",
       "    </tr>\n",
       "    <tr>\n",
       "      <th>2014</th>\n",
       "      <td>KS</td>\n",
       "      <td>142.3</td>\n",
       "      <td>Female</td>\n",
       "      <td>Asian and Pacific Islander</td>\n",
       "    </tr>\n",
       "    <tr>\n",
       "      <th>2014</th>\n",
       "      <td>TX</td>\n",
       "      <td>112.0</td>\n",
       "      <td>Female</td>\n",
       "      <td>Asian and Pacific Islander</td>\n",
       "    </tr>\n",
       "    <tr>\n",
       "      <th>2014</th>\n",
       "      <td>NJ</td>\n",
       "      <td>79.8</td>\n",
       "      <td>Female</td>\n",
       "      <td>Asian and Pacific Islander</td>\n",
       "    </tr>\n",
       "  </tbody>\n",
       "</table>\n",
       "<p>14087 rows × 4 columns</p>\n",
       "</div>"
      ],
      "text/plain": [
       "     State  Value  Gender              Race/Ethnicity\n",
       "Year                                                 \n",
       "2014    AK  317.5    Male                       White\n",
       "2014    AK  400.7    Male                       White\n",
       "2014    AK  401.0    Male                       White\n",
       "2014    AK  385.5    Male                       White\n",
       "2014    AK  281.6    Male                       White\n",
       "...    ...    ...     ...                         ...\n",
       "2014    IA   45.2    Male                    Hispanic\n",
       "2014    FL  184.3    Male  Asian and Pacific Islander\n",
       "2014    KS  142.3  Female  Asian and Pacific Islander\n",
       "2014    TX  112.0  Female  Asian and Pacific Islander\n",
       "2014    NJ   79.8  Female  Asian and Pacific Islander\n",
       "\n",
       "[14087 rows x 4 columns]"
      ]
     },
     "execution_count": 166,
     "metadata": {},
     "output_type": "execute_result"
    }
   ],
   "source": [
    "heart6_df = heart5_df.dropna(how='any')\n",
    "heart6_df = heart6_df.set_index(\"Year\")\n",
    "heart6_df"
   ]
  },
  {
   "cell_type": "code",
   "execution_count": 167,
   "metadata": {},
   "outputs": [
    {
     "data": {
      "text/plain": [
       "274.978471411902"
      ]
     },
     "execution_count": 167,
     "metadata": {},
     "output_type": "execute_result"
    }
   ],
   "source": [
    "females = heart6_df[heart6_df[\"Gender\"] == \"Female\"]\n",
    "female_average = females[\"Value\"].mean()\n",
    "female_average\n"
   ]
  },
  {
   "cell_type": "code",
   "execution_count": 168,
   "metadata": {},
   "outputs": [
    {
     "data": {
      "text/plain": [
       "105.88712189121081"
      ]
     },
     "execution_count": 168,
     "metadata": {},
     "output_type": "execute_result"
    }
   ],
   "source": [
    "females[\"Value\"].std()"
   ]
  },
  {
   "cell_type": "code",
   "execution_count": 169,
   "metadata": {},
   "outputs": [
    {
     "data": {
      "text/plain": [
       "424.6979947448486"
      ]
     },
     "execution_count": 169,
     "metadata": {},
     "output_type": "execute_result"
    }
   ],
   "source": [
    "males = heart6_df[heart6_df[\"Gender\"] == \"Male\"]\n",
    "male_average = males[\"Value\"].mean()\n",
    "male_average\n"
   ]
  },
  {
   "cell_type": "code",
   "execution_count": 170,
   "metadata": {},
   "outputs": [
    {
     "data": {
      "text/plain": [
       "165.34239991296735"
      ]
     },
     "execution_count": 170,
     "metadata": {},
     "output_type": "execute_result"
    }
   ],
   "source": [
    "males[\"Value\"].std()"
   ]
  },
  {
   "cell_type": "code",
   "execution_count": 171,
   "metadata": {},
   "outputs": [
    {
     "data": {
      "text/html": [
       "<div>\n",
       "<style scoped>\n",
       "    .dataframe tbody tr th:only-of-type {\n",
       "        vertical-align: middle;\n",
       "    }\n",
       "\n",
       "    .dataframe tbody tr th {\n",
       "        vertical-align: top;\n",
       "    }\n",
       "\n",
       "    .dataframe thead th {\n",
       "        text-align: right;\n",
       "    }\n",
       "</style>\n",
       "<table border=\"1\" class=\"dataframe\">\n",
       "  <thead>\n",
       "    <tr style=\"text-align: right;\">\n",
       "      <th></th>\n",
       "      <th>Female</th>\n",
       "      <th>Male</th>\n",
       "    </tr>\n",
       "  </thead>\n",
       "  <tbody>\n",
       "    <tr>\n",
       "      <th>0</th>\n",
       "      <td>275.0</td>\n",
       "      <td>424.7</td>\n",
       "    </tr>\n",
       "  </tbody>\n",
       "</table>\n",
       "</div>"
      ],
      "text/plain": [
       "   Female   Male\n",
       "0   275.0  424.7"
      ]
     },
     "execution_count": 171,
     "metadata": {},
     "output_type": "execute_result"
    }
   ],
   "source": [
    "gender_averages = pd.DataFrame({\"Female\": [275.0], \"Male\": [424.7]})\n",
    "gender_averages"
   ]
  },
  {
   "cell_type": "code",
   "execution_count": 172,
   "metadata": {},
   "outputs": [
    {
     "data": {
      "text/html": [
       "<div>\n",
       "<style scoped>\n",
       "    .dataframe tbody tr th:only-of-type {\n",
       "        vertical-align: middle;\n",
       "    }\n",
       "\n",
       "    .dataframe tbody tr th {\n",
       "        vertical-align: top;\n",
       "    }\n",
       "\n",
       "    .dataframe thead th {\n",
       "        text-align: right;\n",
       "    }\n",
       "</style>\n",
       "<table border=\"1\" class=\"dataframe\">\n",
       "  <thead>\n",
       "    <tr style=\"text-align: right;\">\n",
       "      <th></th>\n",
       "      <th>Gender</th>\n",
       "      <th>Value</th>\n",
       "    </tr>\n",
       "  </thead>\n",
       "  <tbody>\n",
       "    <tr>\n",
       "      <th>0</th>\n",
       "      <td>Female</td>\n",
       "      <td>275.0</td>\n",
       "    </tr>\n",
       "    <tr>\n",
       "      <th>1</th>\n",
       "      <td>Male</td>\n",
       "      <td>424.7</td>\n",
       "    </tr>\n",
       "  </tbody>\n",
       "</table>\n",
       "</div>"
      ],
      "text/plain": [
       "   Gender  Value\n",
       "0  Female  275.0\n",
       "1    Male  424.7"
      ]
     },
     "execution_count": 172,
     "metadata": {},
     "output_type": "execute_result"
    }
   ],
   "source": [
    "sum_gen_df = pd.DataFrame({\"Gender\": [\"Female\", \"Male\"], \"Value\": [275.0, 424.7]})\n",
    "sum_gen_df"
   ]
  },
  {
   "cell_type": "code",
   "execution_count": 173,
   "metadata": {},
   "outputs": [
    {
     "data": {
      "application/vnd.jupyter.widget-view+json": {
       "model_id": "7d8bebd1992e4afa9b84b7240572107c",
       "version_major": 2,
       "version_minor": 0
      },
      "image/png": "[encoded data removed]",
      "text/html": [
       "\n",
       "            <div style=\"display: inline-block;\">\n",
       "                <div class=\"jupyter-widgets widget-label\" style=\"text-align: center;\">\n",
       "                    Figure\n",
       "                </div>\n",
       "                <img src='data:image/png;base64,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' width=800.0/>\n",
       "            </div>\n",
       "        "
      ],
      "text/plain": [
       "Canvas(toolbar=Toolbar(toolitems=[('Home', 'Reset original view', 'home', 'home'), ('Back', 'Back to previous …"
      ]
     },
     "metadata": {},
     "output_type": "display_data"
    }
   ],
   "source": [
    "plt.clf()\n",
    "plt.figure(figsize=(8, 7))\n",
    "colors = [\"lightpink\", \"skyblue\"]\n",
    "bars = plt.bar(sum_gen_df[\"Gender\"], sum_gen_df[\"Value\"], color=colors, label=sum_gen_df[\"Gender\"])\n",
    "#plt.bar(fake_df[\"Gender\"], fake_df[\"Value\"], width = 0.3, align=\"center\", color=colors)\n",
    "plt.legend(fontsize=\"x-large\")\n",
    "plt.xlabel(\"Gender\", weight = \"bold\", fontsize=\"large\")\n",
    "plt.ylabel(\"Number of Annual Deaths (out of a 100,000 population)\", weight = \"bold\", fontsize=\"large\")\n",
    "plt.title(\"Average Anual Heart Disease Deaths in the US by Gender\", weight = \"bold\", fontsize=\"x-large\")\n",
    "plt.tick_params(axis='x', which='both', bottom=False, top=False)\n",
    "plt.gca().set_xticklabels([])\n",
    "plt.gcf().set_facecolor('burlywood')\n",
    "plt.gca().set_facecolor('snow')\n",
    "#std_values = np.array([105.9,165.3])\n",
    "#plt.errorbar(sum_eth_df[\"Gender\"], sum_eth_df[\"Value\"], yerr=std_values, fmt='none', ecolor='black', capsize=5, label='Std Dev')\n",
    "plt.tight_layout()\n",
    "plt.show()\n",
    "plt.savefig(\"gender\", format=\"png\")"
   ]
  },
  {
   "cell_type": "code",
   "execution_count": 174,
   "metadata": {},
   "outputs": [
    {
     "data": {
      "text/plain": [
       "Race/Ethnicity\n",
       "White                                 6358\n",
       "Black                                 3633\n",
       "Hispanic                              2107\n",
       "Asian and Pacific Islander            1186\n",
       "American Indian and Alaskan Native     803\n",
       "Name: count, dtype: int64"
      ]
     },
     "execution_count": 174,
     "metadata": {},
     "output_type": "execute_result"
    }
   ],
   "source": [
    "heart6_df[\"Race/Ethnicity\"].value_counts()"
   ]
  },
  {
   "cell_type": "code",
   "execution_count": 175,
   "metadata": {},
   "outputs": [
    {
     "data": {
      "text/plain": [
       "369.1367411135578"
      ]
     },
     "execution_count": 175,
     "metadata": {},
     "output_type": "execute_result"
    }
   ],
   "source": [
    "white = heart6_df[heart6_df[\"Race/Ethnicity\"] == \"White\"]\n",
    "white_average = white[\"Value\"].mean()\n",
    "white_average"
   ]
  },
  {
   "cell_type": "code",
   "execution_count": 176,
   "metadata": {},
   "outputs": [
    {
     "data": {
      "text/plain": [
       "121.21771558845361"
      ]
     },
     "execution_count": 176,
     "metadata": {},
     "output_type": "execute_result"
    }
   ],
   "source": [
    "white[\"Value\"].std()"
   ]
  },
  {
   "cell_type": "code",
   "execution_count": 177,
   "metadata": {},
   "outputs": [
    {
     "data": {
      "text/plain": [
       "438.19295348197085"
      ]
     },
     "execution_count": 177,
     "metadata": {},
     "output_type": "execute_result"
    }
   ],
   "source": [
    "black = heart6_df[heart6_df[\"Race/Ethnicity\"] == \"Black\"]\n",
    "black_average = black[\"Value\"].mean()\n",
    "black_average"
   ]
  },
  {
   "cell_type": "code",
   "execution_count": 178,
   "metadata": {},
   "outputs": [
    {
     "data": {
      "text/plain": [
       "145.71711292360646"
      ]
     },
     "execution_count": 178,
     "metadata": {},
     "output_type": "execute_result"
    }
   ],
   "source": [
    "black[\"Value\"].std()"
   ]
  },
  {
   "cell_type": "code",
   "execution_count": 179,
   "metadata": {},
   "outputs": [
    {
     "data": {
      "text/plain": [
       "216.82249644043665"
      ]
     },
     "execution_count": 179,
     "metadata": {},
     "output_type": "execute_result"
    }
   ],
   "source": [
    "hispanic = heart6_df[heart6_df[\"Race/Ethnicity\"] == \"Hispanic\"]\n",
    "hispanic_average = hispanic[\"Value\"].mean()\n",
    "hispanic_average"
   ]
  },
  {
   "cell_type": "code",
   "execution_count": 180,
   "metadata": {},
   "outputs": [
    {
     "data": {
      "text/plain": [
       "101.69133859170134"
      ]
     },
     "execution_count": 180,
     "metadata": {},
     "output_type": "execute_result"
    }
   ],
   "source": [
    "hispanic[\"Value\"].std()"
   ]
  },
  {
   "cell_type": "code",
   "execution_count": 181,
   "metadata": {},
   "outputs": [
    {
     "data": {
      "text/plain": [
       "441.16674968866755"
      ]
     },
     "execution_count": 181,
     "metadata": {},
     "output_type": "execute_result"
    }
   ],
   "source": [
    "AIAN = heart6_df[heart6_df[\"Race/Ethnicity\"] == \"American Indian and Alaskan Native\"]\n",
    "AIAN_average = AIAN[\"Value\"].mean()\n",
    "AIAN_average"
   ]
  },
  {
   "cell_type": "code",
   "execution_count": 182,
   "metadata": {},
   "outputs": [
    {
     "data": {
      "text/plain": [
       "173.8746205733558"
      ]
     },
     "execution_count": 182,
     "metadata": {},
     "output_type": "execute_result"
    }
   ],
   "source": [
    "API = heart6_df[heart6_df[\"Race/Ethnicity\"] == \"Asian and Pacific Islander\"]\n",
    "API_average = API[\"Value\"].mean()\n",
    "API_average"
   ]
  },
  {
   "cell_type": "code",
   "execution_count": 183,
   "metadata": {},
   "outputs": [
    {
     "data": {
      "text/html": [
       "<div>\n",
       "<style scoped>\n",
       "    .dataframe tbody tr th:only-of-type {\n",
       "        vertical-align: middle;\n",
       "    }\n",
       "\n",
       "    .dataframe tbody tr th {\n",
       "        vertical-align: top;\n",
       "    }\n",
       "\n",
       "    .dataframe thead th {\n",
       "        text-align: right;\n",
       "    }\n",
       "</style>\n",
       "<table border=\"1\" class=\"dataframe\">\n",
       "  <thead>\n",
       "    <tr style=\"text-align: right;\">\n",
       "      <th></th>\n",
       "      <th>White</th>\n",
       "      <th>Black</th>\n",
       "      <th>Hispanic</th>\n",
       "      <th>American Indian and Alaskan Native</th>\n",
       "      <th>Asian and Pacific Islander</th>\n",
       "    </tr>\n",
       "  </thead>\n",
       "  <tbody>\n",
       "    <tr>\n",
       "      <th>0</th>\n",
       "      <td>369.1</td>\n",
       "      <td>438.2</td>\n",
       "      <td>216.8</td>\n",
       "      <td>441.2</td>\n",
       "      <td>173.9</td>\n",
       "    </tr>\n",
       "  </tbody>\n",
       "</table>\n",
       "</div>"
      ],
      "text/plain": [
       "   White  Black  Hispanic  American Indian and Alaskan Native  \\\n",
       "0  369.1  438.2     216.8                               441.2   \n",
       "\n",
       "   Asian and Pacific Islander  \n",
       "0                       173.9  "
      ]
     },
     "execution_count": 183,
     "metadata": {},
     "output_type": "execute_result"
    }
   ],
   "source": [
    "ethnicity_averages = pd.DataFrame({\"White\": [369.1], \"Black\": [438.2], \"Hispanic\": [216.8], \"American Indian and Alaskan Native\": [441.2], \"Asian and Pacific Islander\": [173.9]})\n",
    "ethnicity_averages"
   ]
  },
  {
   "cell_type": "code",
   "execution_count": 184,
   "metadata": {},
   "outputs": [
    {
     "data": {
      "text/html": [
       "<div>\n",
       "<style scoped>\n",
       "    .dataframe tbody tr th:only-of-type {\n",
       "        vertical-align: middle;\n",
       "    }\n",
       "\n",
       "    .dataframe tbody tr th {\n",
       "        vertical-align: top;\n",
       "    }\n",
       "\n",
       "    .dataframe thead th {\n",
       "        text-align: right;\n",
       "    }\n",
       "</style>\n",
       "<table border=\"1\" class=\"dataframe\">\n",
       "  <thead>\n",
       "    <tr style=\"text-align: right;\">\n",
       "      <th></th>\n",
       "      <th>Race/Ethnicity</th>\n",
       "      <th>Value</th>\n",
       "    </tr>\n",
       "  </thead>\n",
       "  <tbody>\n",
       "    <tr>\n",
       "      <th>0</th>\n",
       "      <td>White</td>\n",
       "      <td>369.1</td>\n",
       "    </tr>\n",
       "    <tr>\n",
       "      <th>1</th>\n",
       "      <td>Black</td>\n",
       "      <td>438.2</td>\n",
       "    </tr>\n",
       "    <tr>\n",
       "      <th>2</th>\n",
       "      <td>Hispanic</td>\n",
       "      <td>216.8</td>\n",
       "    </tr>\n",
       "    <tr>\n",
       "      <th>3</th>\n",
       "      <td>American Indian and Alaskan Native</td>\n",
       "      <td>441.2</td>\n",
       "    </tr>\n",
       "    <tr>\n",
       "      <th>4</th>\n",
       "      <td>Asian and Pacific Islander</td>\n",
       "      <td>173.9</td>\n",
       "    </tr>\n",
       "  </tbody>\n",
       "</table>\n",
       "</div>"
      ],
      "text/plain": [
       "                       Race/Ethnicity  Value\n",
       "0                               White  369.1\n",
       "1                               Black  438.2\n",
       "2                            Hispanic  216.8\n",
       "3  American Indian and Alaskan Native  441.2\n",
       "4          Asian and Pacific Islander  173.9"
      ]
     },
     "execution_count": 184,
     "metadata": {},
     "output_type": "execute_result"
    }
   ],
   "source": [
    "sum_eth_df = pd.DataFrame({\"Race/Ethnicity\": [\"White\", \"Black\", \"Hispanic\", \"American Indian and Alaskan Native\", \"Asian and Pacific Islander\"], \"Value\": [369.1, 438.2, 216.8, 441.2, 173.9]})\n",
    "sum_eth_df"
   ]
  },
  {
   "cell_type": "code",
   "execution_count": 185,
   "metadata": {},
   "outputs": [
    {
     "data": {
      "application/vnd.jupyter.widget-view+json": {
       "model_id": "5518789d52d74ebca65758bd1b341802",
       "version_major": 2,
       "version_minor": 0
      },
      "image/png": "[encoded data removed]",
      "text/html": [
       "\n",
       "            <div style=\"display: inline-block;\">\n",
       "                <div class=\"jupyter-widgets widget-label\" style=\"text-align: center;\">\n",
       "                    Figure\n",
       "                </div>\n",
       "                <img src='data:image/png;base64,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' width=800.0/>\n",
       "            </div>\n",
       "        "
      ],
      "text/plain": [
       "Canvas(toolbar=Toolbar(toolitems=[('Home', 'Reset original view', 'home', 'home'), ('Back', 'Back to previous …"
      ]
     },
     "metadata": {},
     "output_type": "display_data"
    }
   ],
   "source": [
    "plt.figure(figsize=(8, 6))\n",
    "colors = ['lightskyblue', 'lightcoral', 'khaki', 'palegreen', 'plum']\n",
    "bars = plt.bar(sum_eth_df[\"Race/Ethnicity\"], sum_eth_df[\"Value\"], color=colors, label=sum_eth_df[\"Race/Ethnicity\"])\n",
    "plt.legend(loc=\"upper center\")\n",
    "plt.ylim(0, max(sum_eth_df[\"Value\"]) * 1.3)  \n",
    "plt.ylabel(\"Number of Annual Deaths (out of a 100,000 population)\", weight = \"bold\")\n",
    "plt.xlabel(\"Race/Ethnicity\", weight = \"bold\")\n",
    "plt.title(\"Average Anual Heart Disease Deaths in the US by Race/Ethnicity\", weight = \"bold\")\n",
    "plt.tick_params(axis='x', which='both', bottom=False, top=False)\n",
    "plt.gca().set_xticklabels([])\n",
    "plt.gcf().set_facecolor('burlywood')\n",
    "plt.gca().set_facecolor('snow')\n",
    "#std_values = np.array([121.2, 145.7, 101.7, 231.1, 76.1])\n",
    "#plt.errorbar(sum_eth_df[\"Race/Ethnicity\"], sum_eth_df[\"Value\"], yerr=std_values, fmt='none', ecolor='black', capsize=5, label='Std Dev')\n",
    "plt.tight_layout()\n",
    "plt.show()\n",
    "plt.savefig(\"ethnicity\", format=\"png\")"
   ]
  }
 ],
 "metadata": {
  "kernelspec": {
   "display_name": "base",
   "language": "python",
   "name": "python3"
  },
  "language_info": {
   "codemirror_mode": {
    "name": "ipython",
    "version": 3
   },
   "file_extension": ".py",
   "mimetype": "text/x-python",
   "name": "python",
   "nbconvert_exporter": "python",
   "pygments_lexer": "ipython3",
   "version": "3.11.7"
  }
 },
 "nbformat": 4,
 "nbformat_minor": 2
}
